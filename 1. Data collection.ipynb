{
 "cells": [
  {
   "cell_type": "code",
   "execution_count": null,
   "id": "07c191b9-283c-42a9-842b-c2423755d9a4",
   "metadata": {},
   "outputs": [],
   "source": [
    "# This notebook integrates downloaded data from website www.360che.com"
   ]
  },
  {
   "cell_type": "code",
   "execution_count": null,
   "id": "e7e631e5-5b19-42f5-ae3b-5f8533384c7f",
   "metadata": {},
   "outputs": [],
   "source": [
    "import pandas as pd\n",
    "import numpy as np"
   ]
  },
  {
   "cell_type": "code",
   "execution_count": null,
   "id": "0d99ddf9-52f5-4429-bb28-daca983f2b53",
   "metadata": {},
   "outputs": [],
   "source": [
    "import json\n",
    "from pathlib import Path\n",
    "\n",
    "def main():\n",
    "    for q in ['平台', '满帮', '货拉拉', '货车帮', '运满满']:\n",
    "        for p in range(1, 101):\n",
    "            fpath = Path(f'Data/down/index/{q}.{p}.json')\n",
    "            if not fpath.exists():\n",
    "                break\n",
    "            index = json.loads(fpath.read_text())\n",
    "            posts = index['data']\n",
    "            if not posts:\n",
    "                break\n",
    "            print(posts[0].keys())\n",
    "            for post in posts:\n",
    "                print(post['title'], post['date'], post['score'])\n",
    "main()\n"
   ]
  },
  {
   "cell_type": "code",
   "execution_count": null,
   "id": "e75dff4a-7c1c-4367-9e23-02e2172161b0",
   "metadata": {},
   "outputs": [],
   "source": [
    "fpath = Path('Data/down/index/平台.1.json')\n",
    "index = json.loads(fpath.read_text())"
   ]
  },
  {
   "cell_type": "code",
   "execution_count": null,
   "id": "6a72b14c-d1a5-40cc-836a-b14f723b24fd",
   "metadata": {},
   "outputs": [],
   "source": [
    "pd.DataFrame(index['data'])"
   ]
  },
  {
   "cell_type": "code",
   "execution_count": null,
   "id": "c4a92edc-61bb-4a30-a1a1-bbc6d996f19a",
   "metadata": {},
   "outputs": [],
   "source": [
    "fpath = Path('Data/down/index/平台.1.json')\n",
    "index = json.loads(fpath.read_text())\n",
    "pd.DataFrame(index['data'])"
   ]
  },
  {
   "cell_type": "code",
   "execution_count": null,
   "id": "f6c8f8fc-02fb-4464-a7a5-d2865f9eb658",
   "metadata": {},
   "outputs": [],
   "source": [
    "path = Path('Data/down/content-parsed.json')\n",
    "content = json.loads(path.read_text())"
   ]
  },
  {
   "cell_type": "code",
   "execution_count": null,
   "id": "a7583a91-af15-47ad-9183-84287ab590ac",
   "metadata": {},
   "outputs": [],
   "source": [
    "index = []\n",
    "keys_to_keep = ['tid', 'author', 'description', \n",
    "                'image', 'replies', 'timestamp', 'title', 'views', \n",
    "                'date', 'thread_url', 'pc_thread_url', 'nickname', 'circleId', 'circleName', 'threadType', 'topicId', \n",
    "                'topicName', 'images', 'isHot', 'score']\n",
    "for q in ['平台', '满帮', '货拉拉', '货车帮', '运满满']:\n",
    "    for p in range(1, 101):\n",
    "        fpath = Path(f'Data/down/index/{q}.{p}.json')\n",
    "        if not fpath.exists():\n",
    "            break\n",
    "        data = json.loads(fpath.read_text())\n",
    "        assert data['msg'] == '成功'\n",
    "        data = [{key: i[key] for key in keys_to_keep} for i in data['data']]\n",
    "        # [f(i) for i in x] ==> result = []; for i in x: result.append(f(i))\n",
    "        for i in data:\n",
    "            i['keyword'] = q\n",
    "            if i['pc_thread_url'] in content:\n",
    "                i['description'] = content[i['pc_thread_url']]\n",
    "        index.extend(data)\n",
    "df = pd.DataFrame(index)"
   ]
  },
  {
   "cell_type": "code",
   "execution_count": null,
   "id": "13e69891-49f9-4238-be11-dd2ee8925a25",
   "metadata": {},
   "outputs": [],
   "source": [
    "df['threadType'].value_counts()"
   ]
  },
  {
   "cell_type": "code",
   "execution_count": null,
   "id": "740776a1-826d-4093-8b45-91fa0f9e351b",
   "metadata": {},
   "outputs": [],
   "source": [
    "df['author'].value_counts()"
   ]
  },
  {
   "cell_type": "code",
   "execution_count": null,
   "id": "4ea59fde-d607-4387-8b3f-8c9243401747",
   "metadata": {},
   "outputs": [],
   "source": [
    "df.to_parquet('RawData.parquet')\n",
    "df.to_excel('RawData.xlsx')"
   ]
  },
  {
   "cell_type": "code",
   "execution_count": null,
   "id": "7ba51ff9-a0f7-4259-91d8-610683dcd4dd",
   "metadata": {},
   "outputs": [],
   "source": []
  }
 ],
 "metadata": {
  "kernelspec": {
   "display_name": "Python 3 (ipykernel)",
   "language": "python",
   "name": "python3"
  },
  "language_info": {
   "codemirror_mode": {
    "name": "ipython",
    "version": 3
   },
   "file_extension": ".py",
   "mimetype": "text/x-python",
   "name": "python",
   "nbconvert_exporter": "python",
   "pygments_lexer": "ipython3",
   "version": "3.12.1"
  }
 },
 "nbformat": 4,
 "nbformat_minor": 5
}
