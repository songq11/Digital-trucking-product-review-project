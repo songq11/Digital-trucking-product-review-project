{
 "cells": [
  {
   "cell_type": "code",
   "execution_count": null,
   "id": "4cfd9eba-358e-43cf-be7b-ea306c7a72c8",
   "metadata": {},
   "outputs": [],
   "source": [
    "from openai import OpenAI\n",
    "with open('openai-key.txt') as fin:\n",
    "    client = OpenAI(api_key=fin.read().strip())"
   ]
  },
  {
   "cell_type": "code",
   "execution_count": null,
   "id": "d0028702-5501-4826-8441-dc9f4bc62cd6",
   "metadata": {},
   "outputs": [],
   "source": [
    "GPT_PROMPT = \"\"\"请判断以下文字的中心主题是否围绕互联网货运平台。\n",
    "常见的货运平台包括运满满、货车帮、货拉拉、满帮等。\n",
    "文字中也可能为了反审查，而使用谐音、符号等代替平台名称，请注意识别。\n",
    "如果文字中没有直接出现平台名称，但内容与对互联网货运平台高度相关，也需要标记为相关。\n",
    "对于招聘、广告等主题，标记为不相关。\n",
    "结果请用 json 表示，包括两个 key：\n",
    "\"reason\" 为一个字符串，是做出此判断的理由；\n",
    "\"result\" 为一个 0 或 1 的整数，表示判断结果。\"\"\".replace('\\n', '')\n",
    "\n",
    "import json\n",
    "import traceback\n",
    "\n",
    "def query_gpt(text):\n",
    "    completion = client.chat.completions.create(\n",
    "      model=\"gpt-4-turbo-preview\",\n",
    "      messages=[\n",
    "        {\"role\": \"system\",\n",
    "         \"content\": \"You are an expert in the Chinese language and in the modern \"\n",
    "         \"Chinese freight industry. Accurately answer all the questions from the user.\"},\n",
    "        {\"role\": \"user\", \"content\": f\"{GPT_PROMPT}\\n\\n{text}\"}\n",
    "      ]\n",
    "    )\n",
    "    msg = completion.choices[0].message\n",
    "    try:\n",
    "        assert msg.role == 'assistant' and msg.function_call is None and msg.tool_calls is None\n",
    "        t = msg.content\n",
    "        assert t.startswith('```json') and t.endswith('```')\n",
    "        t = t[8:-3].replace('\\\\陕', '陕').replace('\\\\提', '提')\n",
    "        ret = json.loads(t)\n",
    "        ret['good'] = True\n",
    "    except Exception as exc:\n",
    "        print(text)\n",
    "        print(msg)\n",
    "        raise\n",
    "    return ret\n"
   ]
  },
  {
   "cell_type": "code",
   "execution_count": null,
   "id": "8912548f-e4f4-4f2a-8081-4ba68108ebad",
   "metadata": {},
   "outputs": [],
   "source": [
    "import pandas as pd\n",
    "df = pd.read_parquet('uncertain_data.parquet')\n",
    "df.head()"
   ]
  },
  {
   "cell_type": "code",
   "execution_count": null,
   "id": "13440126-7b18-4c28-b571-7fc805302dc8",
   "metadata": {},
   "outputs": [],
   "source": [
    "from tqdm.notebook import tqdm\n",
    "from pathlib import Path\n",
    "output_file = Path('data-cleaning-uncertain-by-chatgpt.json')\n",
    "if output_file.exists():\n",
    "    with output_file.open() as fin:\n",
    "        result = json.load(fin)\n",
    "    print(f'loaded {len(result)} results')\n",
    "else:\n",
    "    result = {}\n",
    "\n",
    "for row_id in tqdm(range(len(df))):\n",
    "    row = df.iloc[row_id]\n",
    "    tid = str(row['tid'])\n",
    "    if tid in result:\n",
    "        continue\n",
    "    text = f'标题：{row[\"title\"]}\\n内容：{row[\"description\"]}'\n",
    "    if not row[\"description\"].strip():\n",
    "        result[tid] = {'result': 0}\n",
    "        continue\n",
    "    result[tid] = query_gpt(text)\n",
    "    tqdm.write(f'{tid}:\\n{json.dumps(result[tid], indent=2, ensure_ascii=False)}\\n{text}') \n",
    "    if output_file.exists():\n",
    "        output_file.rename(output_file.with_suffix('.json.bak'))\n",
    "    with output_file.open('w') as fout:\n",
    "        json.dump(result, fout, ensure_ascii=False, indent=2)"
   ]
  }
 ],
 "metadata": {
  "kernelspec": {
   "display_name": "Python 3 (ipykernel)",
   "language": "python",
   "name": "python3"
  },
  "language_info": {
   "codemirror_mode": {
    "name": "ipython",
    "version": 3
   },
   "file_extension": ".py",
   "mimetype": "text/x-python",
   "name": "python",
   "nbconvert_exporter": "python",
   "pygments_lexer": "ipython3",
   "version": "3.12.1"
  }
 },
 "nbformat": 4,
 "nbformat_minor": 5
}
