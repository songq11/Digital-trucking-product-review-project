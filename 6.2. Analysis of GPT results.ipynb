{
 "cells": [
  {
   "cell_type": "code",
   "execution_count": null,
   "id": "25b736d6-f4bd-4dda-9ef4-a7b3853c4b46",
   "metadata": {},
   "outputs": [],
   "source": [
    "import pandas as pd\n",
    "df = pd.read_parquet('../processed_data/with_gpt_results_2nd_round.parquet')"
   ]
  },
  {
   "cell_type": "code",
   "execution_count": null,
   "id": "4b9953f1-8aeb-4398-b6ea-77aa755d35cf",
   "metadata": {},
   "outputs": [],
   "source": [
    "df.info()"
   ]
  },
  {
   "cell_type": "code",
   "execution_count": null,
   "id": "a48f8610-b00a-4498-91d1-64515d1513b2",
   "metadata": {},
   "outputs": [],
   "source": [
    "df['new_theme'].value_counts()"
   ]
  },
  {
   "cell_type": "code",
   "execution_count": null,
   "id": "ef4745e6-df02-498c-91a0-de695f1873c8",
   "metadata": {},
   "outputs": [],
   "source": [
    "df['year'] = df['date'].apply(lambda x: x[:4])\n",
    "df['year'] = pd.to_numeric(df['year'])\n",
    "# Drop data of year 2014 and before\n",
    "df = df[df['year']>=2015]\n",
    "df['year'].value_counts().sort_index()"
   ]
  },
  {
   "cell_type": "code",
   "execution_count": null,
   "id": "6ca525c1-72c6-48a6-850e-b633aef1f139",
   "metadata": {},
   "outputs": [],
   "source": [
    "for i in range(len(df)):\n",
    "    assert max(df.iloc[i]['scores_2']) == df.iloc[i]['new_theme']"
   ]
  },
  {
   "cell_type": "code",
   "execution_count": null,
   "id": "3fc6b927-0692-487c-86b2-c79f59ed3d43",
   "metadata": {},
   "outputs": [],
   "source": [
    "max_score = []\n",
    "for i in range(len(df)):\n",
    "    arr = df.iloc[i]['scores_2']\n",
    "    if arr.size > 0:\n",
    "        index_max = np.argmax(arr) + 1\n",
    "        max_score.append(index_max)    \n",
    "    else:\n",
    "        max_score.append(-1)\n",
    "    \n",
    "df['max_score_index'] = max_score"
   ]
  },
  {
   "cell_type": "code",
   "execution_count": null,
   "id": "e583a8ee-c401-4ff3-824c-2df2c66be39c",
   "metadata": {},
   "outputs": [],
   "source": [
    "pd.set_option('display.max_rows', None)\n",
    "pd.set_option('display.max_colwidth', None)\n",
    "wrong_result = df[df['max_score_index'] != df['new_theme']]\n",
    "wrong_result[['scores_2', 'new_theme']]"
   ]
  },
  {
   "cell_type": "code",
   "execution_count": null,
   "id": "d1ea732b-5d18-407f-9642-47e9e371457b",
   "metadata": {},
   "outputs": [],
   "source": [
    "wrong_result[wrong_result['new_theme'] > 0][['id', 'scores_2', 'new_theme']]"
   ]
  },
  {
   "cell_type": "code",
   "execution_count": null,
   "id": "ba188795-0324-4073-ab27-9ebc30d83cdb",
   "metadata": {},
   "outputs": [],
   "source": [
    "df.loc[df['new_theme'] == 9, 'new_theme'] = 7"
   ]
  },
  {
   "cell_type": "code",
   "execution_count": null,
   "id": "38024e49-52f5-4f94-9d24-21860d1cf94d",
   "metadata": {},
   "outputs": [],
   "source": [
    "print(df['max_score_index'].value_counts())\n",
    "print(df['new_theme'].value_counts().sort_index())"
   ]
  },
  {
   "cell_type": "code",
   "execution_count": null,
   "id": "bff93513-62c5-43fd-ae1f-7aaa06c376cd",
   "metadata": {},
   "outputs": [],
   "source": [
    "df.info()"
   ]
  },
  {
   "cell_type": "code",
   "execution_count": null,
   "id": "49214640-9a57-4d6b-8708-8cbc881c0ea7",
   "metadata": {
    "scrolled": true
   },
   "outputs": [],
   "source": [
    "df['author'].value_counts()"
   ]
  },
  {
   "cell_type": "code",
   "execution_count": null,
   "id": "86a02788-0e1b-43c6-bce4-a9df8a4fa8b2",
   "metadata": {
    "scrolled": true
   },
   "outputs": [],
   "source": [
    "pd.set_option('display.max_rows', None)\n",
    "pd.set_option('display.max_colwidth', None)\n",
    "\n",
    "test = df['new_theme'] == 2\n",
    "id_list = df[test]['id']\n",
    "good_id = id_list[id_list >2000]\n",
    "\n",
    "for i in good_id:\n",
    "    row = df[df['id'] == i]\n",
    "    text = row['fulltext']\n",
    "    print(text)"
   ]
  },
  {
   "cell_type": "code",
   "execution_count": null,
   "id": "69d2f057-079d-4f08-8937-6f3972f61e9f",
   "metadata": {},
   "outputs": [],
   "source": [
    "df.iloc[2584]"
   ]
  },
  {
   "cell_type": "code",
   "execution_count": null,
   "id": "f9790562-29be-44e3-8803-d2eb3c6c94ff",
   "metadata": {},
   "outputs": [],
   "source": [
    "df[df['author'=='習遦點伎煙']]"
   ]
  },
  {
   "cell_type": "code",
   "execution_count": null,
   "id": "50a2e25d-bf57-46eb-be61-576d9ed92983",
   "metadata": {
    "scrolled": true
   },
   "outputs": [],
   "source": [
    "df[test]['author'].count()"
   ]
  },
  {
   "cell_type": "code",
   "execution_count": null,
   "id": "6172df01-2e77-4288-86a3-c62f06fc8ba1",
   "metadata": {},
   "outputs": [],
   "source": [
    "1317/5190"
   ]
  },
  {
   "cell_type": "code",
   "execution_count": null,
   "id": "070af53e-f3ba-4a2e-8389-9fff5845c4b0",
   "metadata": {},
   "outputs": [],
   "source": [
    "df.to_parquet('../processed_data/with_gpt_results_2nd_round.parquet')"
   ]
  },
  {
   "cell_type": "code",
   "execution_count": null,
   "id": "8582827a-bdf7-44bd-98a6-0956f074292e",
   "metadata": {},
   "outputs": [],
   "source": [
    "pd.set_option('display.max_rows', None)\n",
    "pd.set_option('display.max_colwidth', None)\n",
    "\n",
    "test = df['new_theme'] == 4\n",
    "print(len(df[test]['fulltext']))\n",
    "df[test]['fulltext']"
   ]
  },
  {
   "cell_type": "code",
   "execution_count": null,
   "id": "3a28cd38-75c0-44c9-a0b3-34014fcc4280",
   "metadata": {},
   "outputs": [],
   "source": [
    "import seaborn as sns\n",
    "import matplotlib.pyplot as plt\n",
    "%matplotlib inline\n",
    "\n",
    "sns.countplot(data = df, x = df['new_theme'], hue = df['new_theme'], palette='viridis', width=0.5, legend=False)"
   ]
  },
  {
   "cell_type": "markdown",
   "id": "fd136778-e48d-4d9c-883e-2e37d91175b3",
   "metadata": {},
   "source": [
    "# Sentiment"
   ]
  },
  {
   "cell_type": "code",
   "execution_count": null,
   "id": "cf0d9d27-1fb0-4fcb-a0a9-f19676703a0f",
   "metadata": {},
   "outputs": [],
   "source": [
    "# sentiment description\n",
    "df['gpt_sentiment'].describe()"
   ]
  },
  {
   "cell_type": "code",
   "execution_count": null,
   "id": "ed868eb2-6ce3-4e97-ae54-86e89a7ea2cc",
   "metadata": {},
   "outputs": [],
   "source": [
    "df.groupby('gpt_sentiment').size()"
   ]
  },
  {
   "cell_type": "code",
   "execution_count": null,
   "id": "c70a9180-218b-4413-b43c-e0ced3e3c1d7",
   "metadata": {},
   "outputs": [],
   "source": [
    "sns.countplot(data = df, x = df['gpt_sentiment'], hue = df['gpt_sentiment'], palette='viridis', width=0.5, legend=False)"
   ]
  },
  {
   "cell_type": "code",
   "execution_count": null,
   "id": "7cb6b8fb-ff12-4870-a67b-f6a39270d182",
   "metadata": {},
   "outputs": [],
   "source": [
    "1350+708"
   ]
  },
  {
   "cell_type": "code",
   "execution_count": null,
   "id": "6806bbea-763f-4e9b-a815-f4dd3f2c7b28",
   "metadata": {},
   "outputs": [],
   "source": [
    "(439+ 421+ 129)/5367"
   ]
  },
  {
   "cell_type": "markdown",
   "id": "d61b9233-3c5f-4666-b762-0b50ff1370ab",
   "metadata": {},
   "source": [
    "## Sentiment by Themes"
   ]
  },
  {
   "cell_type": "code",
   "execution_count": null,
   "id": "66fa8734-9205-48a4-a89b-cfea4ed0ed31",
   "metadata": {},
   "outputs": [],
   "source": [
    "# sns.countplot(data = df, hue = df['gpt_sentiment'], x = df['new_theme'])"
   ]
  },
  {
   "cell_type": "code",
   "execution_count": null,
   "id": "d399d68b-9e8a-4798-8aa6-b45ece01281b",
   "metadata": {},
   "outputs": [],
   "source": [
    "# average sentiment by theme\n",
    "df.groupby('new_theme')['gpt_sentiment'].mean()"
   ]
  },
  {
   "cell_type": "code",
   "execution_count": null,
   "id": "0e88f0b4-24eb-4ba5-8a94-9653ea491558",
   "metadata": {},
   "outputs": [],
   "source": [
    "plt.figure(figsize=(8, 6))\n",
    "sns.violinplot(x='new_theme', y='gpt_sentiment', data=df, color='purple', inner=None, width=1)\n",
    "plt.title('Violin Plot of Values by Category')\n",
    "plt.show()"
   ]
  },
  {
   "cell_type": "code",
   "execution_count": null,
   "id": "b82b5920-ca4a-4cbd-a644-0cf34d68f417",
   "metadata": {},
   "outputs": [],
   "source": [
    "# df_good = df[df['new_theme']>0]\n",
    "sentiment_by_theme = df_good.pivot_table(index='new_theme', columns='gpt_sentiment', aggfunc='size', fill_value=0)\n",
    "sentiment_by_theme"
   ]
  },
  {
   "cell_type": "code",
   "execution_count": null,
   "id": "74e158a7-be8a-4550-b53d-f7dc8cc98d9c",
   "metadata": {},
   "outputs": [],
   "source": [
    "(351+326+57)/816"
   ]
  },
  {
   "cell_type": "code",
   "execution_count": null,
   "id": "a24f8031-f38e-4d32-903a-f9351afb5099",
   "metadata": {},
   "outputs": [],
   "source": [
    "fig, axes = plt.subplots(2, 4, figsize=(20, 10))\n",
    "axes = axes.flatten()\n",
    "topic_legend = ['T1: Market Entry', 'T2: Shipping Prices', 'T3: Platform Payment', 'T4: Fraud & Dispute', 'T5: Regulation', 'T6: Solidarity', 'T7: General']\n",
    "# Creating countplots for each theme\n",
    "for i in range(1, 8):\n",
    "    theme = df[df['new_theme'] == i]\n",
    "    sns.countplot(data=theme, x=theme['gpt_sentiment'], hue = theme['gpt_sentiment'], \n",
    "                  palette='viridis', width=0.5, legend=False, ax=axes[i-1])\n",
    "    axes[i-1].set_title(f'Sentiment Scores of {topic_legend[i-1]}')\n",
    "    axes[i-1].set_xlabel('Sentiment Scores')\n",
    "    axes[i-1].set_ylabel('Counts')\n",
    "\n",
    "# Hide the last subplot (8th grid)\n",
    "axes[-1].axis('off')\n",
    "\n",
    "plt.tight_layout()\n",
    "plt.savefig('../Graphs/sentiment_topic.png')\n",
    "plt.show()"
   ]
  },
  {
   "cell_type": "markdown",
   "id": "dfef1b53-2725-4c57-9243-d76dc6929c07",
   "metadata": {},
   "source": [
    "## Sentiment Over Years"
   ]
  },
  {
   "cell_type": "code",
   "execution_count": null,
   "id": "a88fae24-167c-485f-a184-91a8394dac34",
   "metadata": {},
   "outputs": [],
   "source": [
    "df['year'].value_counts().sort_index()"
   ]
  },
  {
   "cell_type": "code",
   "execution_count": null,
   "id": "e90fda8d-b97f-4036-917c-3087da20a2df",
   "metadata": {},
   "outputs": [],
   "source": [
    "sentiment_by_year = df.groupby('year')['gpt_sentiment'].mean()\n",
    "sentiment_by_year"
   ]
  },
  {
   "cell_type": "code",
   "execution_count": null,
   "id": "35998f49-db42-4b57-8307-21bd70e8f491",
   "metadata": {},
   "outputs": [],
   "source": [
    "# Creating a line plot\n",
    "plt.figure(figsize=(8, 6))\n",
    "sns.lineplot(x='year', y='gpt_sentiment', data=df, estimator='mean', errorbar = ('ci', 95), marker='o')\n",
    "plt.title('Average Sentiment Across Years')\n",
    "plt.ylabel('Average Sentiment Scores')\n",
    "plt.xlabel('Years')\n",
    "plt.ylim(1, 7)\n",
    "plt.show()"
   ]
  },
  {
   "cell_type": "code",
   "execution_count": null,
   "id": "56bb3995-de53-4974-bbd0-e7128652d630",
   "metadata": {},
   "outputs": [],
   "source": [
    "?sns.lineplot"
   ]
  },
  {
   "cell_type": "markdown",
   "id": "42cddaec-4660-48e3-82cd-cb74c1287194",
   "metadata": {},
   "source": [
    "## Sentiment Across platforms"
   ]
  },
  {
   "cell_type": "code",
   "execution_count": null,
   "id": "42bbfa42-7998-4863-a32d-4f31e56883c3",
   "metadata": {},
   "outputs": [],
   "source": [
    "df['keyword'].value_counts()"
   ]
  },
  {
   "cell_type": "code",
   "execution_count": null,
   "id": "16d82668-fc95-4063-8e9a-89150c6b7b3b",
   "metadata": {},
   "outputs": [],
   "source": [
    "df.groupby('keyword')['gpt_sentiment'].mean()"
   ]
  },
  {
   "cell_type": "code",
   "execution_count": null,
   "id": "5760d136-f98f-4826-9b97-f78570fccfb6",
   "metadata": {},
   "outputs": [],
   "source": [
    "df.groupby('keyword')['gpt_sentiment'].median()"
   ]
  },
  {
   "cell_type": "code",
   "execution_count": null,
   "id": "0e4d6621-7afa-4b52-91ac-84541b122b39",
   "metadata": {},
   "outputs": [],
   "source": [
    "df.groupby('keyword')['gpt_sentiment'].size()"
   ]
  },
  {
   "cell_type": "code",
   "execution_count": null,
   "id": "bbc62d0d-9794-4cf4-acd6-f2b9b78453b5",
   "metadata": {},
   "outputs": [],
   "source": [
    "translation = {'平台':'Platform',\n",
    "               '满帮':'Manbang',\n",
    "               '货拉拉':'Huolala',\n",
    "               '货车帮':'Huochebang',\n",
    "               '运满满':'Yunmanman'         \n",
    "}\n",
    "df['keyword'] = df['keyword'].map(translation)"
   ]
  },
  {
   "cell_type": "code",
   "execution_count": null,
   "id": "73a59607-3336-4b4a-b164-22ea2c3a9852",
   "metadata": {
    "scrolled": true
   },
   "outputs": [],
   "source": [
    "fig, axes = plt.subplots(2, 3, figsize=(20, 10))\n",
    "axes = axes.flatten()\n",
    "\n",
    "list = df['keyword'].unique()\n",
    "\n",
    "# Select a font that supports CJK characters\n",
    "plt.rcParams['font.family'] = 'AppleGothic'\n",
    "\n",
    "# Creating countplots for each theme\n",
    "for i in range(0,5):\n",
    "    platform = list[i]\n",
    "    slice = df[df['keyword']==platform]\n",
    "    sns.countplot(data=slice, x=slice['gpt_sentiment'], hue = slice['gpt_sentiment'], \n",
    "                  palette='viridis', width=0.5, legend=False, ax=axes[i])\n",
    "    axes[i].set_title(f'Sentiment Scores of {platform}')\n",
    "    axes[i].set_xlabel('Sentiment Scores')\n",
    "    axes[i].set_ylabel('Counts')\n",
    "\n",
    "# Hide the last subplot (8th grid)\n",
    "axes[-1].axis('off')\n",
    "\n",
    "plt.tight_layout()\n",
    "plt.show()"
   ]
  },
  {
   "cell_type": "code",
   "execution_count": null,
   "id": "45a71fa2-6e42-49c4-ac43-e1ff33561752",
   "metadata": {},
   "outputs": [],
   "source": []
  },
  {
   "cell_type": "markdown",
   "id": "e966a8a6-d547-4374-9b75-4d7f21baf3ce",
   "metadata": {},
   "source": [
    "# Theme Distribution"
   ]
  },
  {
   "cell_type": "markdown",
   "id": "092b7e81-e8a8-4547-9013-98c1cf4b462d",
   "metadata": {},
   "source": [
    "## Themes Across Years"
   ]
  },
  {
   "cell_type": "code",
   "execution_count": null,
   "id": "267aa6da-799a-466b-98f8-4bb88fbd7c83",
   "metadata": {},
   "outputs": [],
   "source": [
    "# Theme distribution across years\n",
    "fig, axes = plt.subplots(3, 3, figsize=(20, 10))\n",
    "axes = axes.flatten()\n",
    "# Creating countplots for each theme\n",
    "for i in range(1, 8):\n",
    "    theme = df[df['new_theme'] == i]\n",
    "    sns.countplot(data=theme, x=theme['year'], hue = theme['year'], \n",
    "                  palette='viridis', width=0.5, legend=False, ax=axes[i-1])\n",
    "    axes[i-1].set_title(f'Yearly Distribution of Topic {i}')\n",
    "    axes[i-1].set_xlabel('Year')\n",
    "    axes[i-1].set_ylabel('Theme counts')\n",
    "\n",
    "# Hide the last subplot (8th grid)\n",
    "axes[-2].axis('off')\n",
    "\n",
    "plt.tight_layout()\n",
    "plt.show()"
   ]
  },
  {
   "cell_type": "code",
   "execution_count": null,
   "id": "c906c91d-b2b1-4c9d-9f79-e0524429ee95",
   "metadata": {},
   "outputs": [],
   "source": [
    "\n",
    "plt.figure(figsize=(10, 6))\n",
    "\n",
    "for i in range(1, 8):\n",
    "    theme_data = df[df['new_theme'] == i].groupby('year').size().reset_index(name='counts')\n",
    "    sns.lineplot(data=theme_data, x='year', y='counts', marker='o', label=f'Theme {i}')\n",
    "\n",
    "plt.title('Yearly Distribution of Themes')\n",
    "plt.xlabel('Year')\n",
    "plt.ylabel('Counts')\n",
    "plt.legend(title='Themes')\n",
    "plt.show()\n"
   ]
  },
  {
   "cell_type": "code",
   "execution_count": null,
   "id": "95010d00-c3e4-421d-89ad-a045de41b431",
   "metadata": {},
   "outputs": [],
   "source": [
    "import matplotlib.pyplot as plt\n",
    "import seaborn as sns\n",
    "import pandas as pd\n",
    "\n",
    "# Sample DataFrame creation (replace this with your actual DataFrame)\n",
    "# df = pd.DataFrame({\n",
    "#     'year': [2010, 2010, 2011, 2011, 2012, 2012] * 3,\n",
    "#     'new_theme': [1, 2, 1, 2, 1, 2] * 3,\n",
    "#     'count': [10, 15, 20, 25, 5, 30] * 3\n",
    "# })\n",
    "\n",
    "# Initialize the figure with a 3x3 grid of subplots\n",
    "fig, axes = plt.subplots(3, 3, figsize=(20, 10))\n",
    "axes = axes.flatten()\n",
    "\n",
    "# Create a line plot for each theme\n",
    "for i in range(1, 8):\n",
    "    theme_data = df[df['new_theme'] == i].groupby('year').size().reset_index(name='counts')\n",
    "    sns.lineplot(data=theme_data, x='year', y='counts', marker='o', ax=axes[i-1])\n",
    "    axes[i-1].set_title(f'Yearly Distribution of Theme {i}')\n",
    "    axes[i-1].set_xlabel('Year')\n",
    "    axes[i-1].set_ylabel('Counts')\n",
    "\n",
    "# Hide the unused subplots\n",
    "for i in range(7, 9):\n",
    "    axes[i].set_visible(False)\n",
    "\n",
    "plt.tight_layout()\n",
    "plt.show()\n"
   ]
  },
  {
   "cell_type": "code",
   "execution_count": null,
   "id": "dcd019f7-b213-471d-8437-0b66bfe42b6e",
   "metadata": {},
   "outputs": [],
   "source": [
    "# Exclude rows when theme == -1\n",
    "# df_good = df[df['new_theme']>0]\n",
    "# df_2024_drop = df[df['year']<2024]\n",
    "df_select = df[(df['new_theme']>0) & (df['year']<2024)]\n",
    "\n",
    "# Pivot the data to get yearly counts for each theme\n",
    "pivot_df = df_select.pivot_table(index='year', columns='new_theme', aggfunc='size', fill_value=0)\n",
    "\n",
    "# Ensure all categories are represented (in case some years miss some categories)\n",
    "all_categories = df_select['new_theme'].unique()\n",
    "pivot_df = pivot_df.reindex(columns=all_categories, fill_value=0)\n",
    "pivot_df = pivot_df.sort_index(axis=1)\n",
    "\n",
    "# Now pivot_df has years as index and one column for each theme with counts as values\n",
    "\n",
    "# Creating the stackplot\n",
    "plt.figure(figsize=(10, 6))\n",
    "labels = [f'Theme {i}' for i in range(1,8)]\n",
    "colors = ['#E63946', '#F1FAEE', '#A8DADC', '#457B9D', '#1D3557', '#F4A261', '#2A9D8F']\n",
    "\n",
    "plt.stackplot(pivot_df.index, pivot_df.T, colors=colors, labels=labels)\n",
    "\n",
    "# Customize the plot\n",
    "plt.title('Distribution of Topics Across Years')\n",
    "plt.xlabel('Year')\n",
    "plt.ylabel('Count')\n",
    "plt.legend(topic_legend, loc='upper right')\n",
    "\n",
    "plt.savefig('../Graphs/topic_year.png')\n",
    "plt.show()\n"
   ]
  },
  {
   "cell_type": "code",
   "execution_count": null,
   "id": "7ef7f1bf-6f99-4bc5-b6dc-9fd664695d1b",
   "metadata": {},
   "outputs": [],
   "source": [
    "pivot_df"
   ]
  },
  {
   "cell_type": "code",
   "execution_count": null,
   "id": "af97619b-8cca-4691-8cba-49597b36fc43",
   "metadata": {},
   "outputs": [],
   "source": [
    "# yearly_count_themes = {}\n",
    "# for i in range(1,8):\n",
    "#     theme_i = df[df['new_theme']==i]\n",
    "#     yearly_count = theme_i.groupby('year')['id'].count()\n",
    "#     y_i = yearly_count.tolist()\n",
    "#     yearly_count_themes[i] = y_i\n",
    "# print(yearly_count_themes)\n",
    "\n",
    "# x = sorted(df['year'].unique())\n",
    "# y = pd.Dataframe(yearly_count_themes)\n",
    "# # [value for value in yearly_count_themes.values()]\n",
    "# labels = [f'theme{i}' for i in range(1,8)]\n",
    "# # plt.stackplot(x, y, labels=labels)"
   ]
  },
  {
   "cell_type": "markdown",
   "id": "00c5de92-85be-49fd-b9dd-ca8fac2d4125",
   "metadata": {},
   "source": [
    "## Themes Across Platforms"
   ]
  },
  {
   "cell_type": "code",
   "execution_count": null,
   "id": "d91c3a96-a70a-4d01-8ae0-089c9595e0bc",
   "metadata": {},
   "outputs": [],
   "source": [
    "# # Exclude rows when theme == -1\n",
    "df_good = df[df['new_theme']>0]\n",
    "\n",
    "# Pivot the data to get counts for each theme across platforms\n",
    "theme_platform = df_good.pivot_table(index='keyword', columns='new_theme', aggfunc='size', fill_value=0)\n",
    "\n",
    "# Defining the new order for the index\n",
    "new_order = ['Platform', 'Manbang', 'Yunmanman', 'Huochebang', 'Huolala']\n",
    "\n",
    "# Reordering the DataFrame based on the new index order\n",
    "theme_platform = theme_platform.loc[new_order]\n",
    "\n",
    "theme_platform"
   ]
  },
  {
   "cell_type": "code",
   "execution_count": null,
   "id": "4b26b0ca-9158-4030-83a5-7086044370d8",
   "metadata": {},
   "outputs": [],
   "source": [
    "row_percentage = theme_platform.div(theme_platform.sum(axis=1), axis=0) * 100\n",
    "row_percentage"
   ]
  },
  {
   "cell_type": "code",
   "execution_count": null,
   "id": "107da484-159e-4b13-97e8-6c32b10ebcb4",
   "metadata": {},
   "outputs": [],
   "source": [
    "# column_percentage = theme_platform.div(theme_platform.sum(axis=0), axis=1) * 100\n",
    "# column_percentage"
   ]
  },
  {
   "cell_type": "code",
   "execution_count": null,
   "id": "3d90f20f-ad9d-41ba-b708-dc6ddc28bec3",
   "metadata": {},
   "outputs": [],
   "source": [
    "# total_sum = theme_platform.sum().sum()\n",
    "# cell_percentage = (theme_platform / total_sum) * 100\n",
    "# cell_percentage"
   ]
  },
  {
   "cell_type": "code",
   "execution_count": null,
   "id": "cee1f750-1604-4def-ba36-a86902df7c79",
   "metadata": {},
   "outputs": [],
   "source": [
    "import numpy as np"
   ]
  },
  {
   "cell_type": "code",
   "execution_count": null,
   "id": "5ba6699a-f1dd-44e9-868a-47b1438ce040",
   "metadata": {},
   "outputs": [],
   "source": [
    "topic_legend_2 = ['T1:\\nMarket Entry', 'T2:\\nShipping Prices', 'T3:\\nPlatform Payment', 'T4:\\nFraud & Dispute', 'T5:\\nRegulation', 'T6:\\nSolidarity', 'T7:\\nGeneral']\n",
    "\n",
    "plt.figure(figsize=(13, 7))\n",
    "sns.heatmap(row_percentage, annot=True, cmap=\"YlGnBu\")\n",
    "plt.title('Percentages of Topics across Platforms')\n",
    "plt.xlabel('Topics')\n",
    "plt.ylabel('Platforms')\n",
    "plt.xticks(ticks=np.arange(0, 7) + 0.5, labels = topic_legend_2)\n",
    "plt.savefig('../processed_data/topic_platform.png')\n",
    "plt.show()"
   ]
  },
  {
   "cell_type": "code",
   "execution_count": null,
   "id": "b5494779-f904-4a93-96ea-feb120823500",
   "metadata": {},
   "outputs": [],
   "source": [
    "# Creating a pivot table\n",
    "theme_keyword = df_good.groupby(['keyword', 'new_theme']).size().unstack(fill_value=0)\n",
    "\n",
    "# Initialize a figure and axis\n",
    "plt.figure(figsize=(10, 6))\n",
    "\n",
    "# Bottom tracker for each keyword's bar\n",
    "bottom = [0] * len(theme_keyword)\n",
    "\n",
    "# For each new_theme, plot a bar stack\n",
    "for theme in theme_keyword.columns:\n",
    "    plt.bar(theme_keyword.index, theme_keyword[theme], bottom=bottom, label=theme)\n",
    "    bottom = [sum(x) for x in zip(bottom, theme_keyword[theme])]\n",
    "\n",
    "# Adding labels, title, and legend\n",
    "plt.xlabel('Keyword')\n",
    "plt.ylabel('Count')\n",
    "plt.title('Stacked Bar Plot of New Themes per Keyword')\n",
    "plt.legend(title='New Theme')\n",
    "\n",
    "# Show the plot\n",
    "plt.show()\n"
   ]
  },
  {
   "cell_type": "code",
   "execution_count": null,
   "id": "07e7aeae-3ecb-4b07-bf7c-ca689ddd6aea",
   "metadata": {},
   "outputs": [],
   "source": [
    "df['year'].value_counts().sort_index()"
   ]
  },
  {
   "cell_type": "code",
   "execution_count": null,
   "id": "208fe09e-fb24-4937-a488-a0c24fd80af8",
   "metadata": {},
   "outputs": [],
   "source": []
  }
 ],
 "metadata": {
  "kernelspec": {
   "display_name": "Python 3 (ipykernel)",
   "language": "python",
   "name": "python3"
  },
  "language_info": {
   "codemirror_mode": {
    "name": "ipython",
    "version": 3
   },
   "file_extension": ".py",
   "mimetype": "text/x-python",
   "name": "python",
   "nbconvert_exporter": "python",
   "pygments_lexer": "ipython3",
   "version": "3.12.1"
  }
 },
 "nbformat": 4,
 "nbformat_minor": 5
}
