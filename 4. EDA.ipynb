{
 "cells": [
  {
   "cell_type": "markdown",
   "id": "b90fb17c-3d28-4d08-ade8-f8f1b475573a",
   "metadata": {},
   "source": [
    "# To-do list:\n",
    "1. Use tf-idf to select Top words: Top 30 words for each platform (yinxian zhang's paper)\n",
    "2. Depict changes of top words over time\n",
    "3. Word2vec--what words people use when talking about 'pingtai' (yinxian zhang's paper)\n",
    "4. [Done] 一个假设：跑平台的司机倾向于某种车型，比如轻卡，因为成本低。“重卡”关键词已被dropped\n",
    "5. 疫情相关内容\n",
    "6. [Done] Manual coding for all tasks and calculate the accuracy rate of ChatGPT\n"
   ]
  },
  {
   "cell_type": "markdown",
   "id": "fc834acf-8cff-47d1-a820-f91e0df335cc",
   "metadata": {},
   "source": [
    "# Data Cleaning"
   ]
  },
  {
   "cell_type": "code",
   "execution_count": null,
   "id": "ab90abb6-e1bd-4ba7-acea-fbfec1b3131e",
   "metadata": {},
   "outputs": [],
   "source": [
    "import pandas as pd\n",
    "import numpy as np\n",
    "\n",
    "df = pd.read_parquet('../processed_data/tokenized_data.parquet')\n",
    "df.info()"
   ]
  },
  {
   "cell_type": "code",
   "execution_count": null,
   "id": "0f4a5ebb-84ce-487c-a9c9-ffb84f9b7280",
   "metadata": {},
   "outputs": [],
   "source": [
    "# df.rename(columns ={'tok':'hanlp_tok'}, inplace=True)"
   ]
  },
  {
   "cell_type": "code",
   "execution_count": null,
   "id": "fda072c9-8e9b-4c27-a71d-2ab6aa8d9f47",
   "metadata": {},
   "outputs": [],
   "source": [
    "df['clean_tok']"
   ]
  },
  {
   "cell_type": "code",
   "execution_count": null,
   "id": "7e96c2d5-3ce9-4eb6-b2cd-751245b97d6a",
   "metadata": {},
   "outputs": [],
   "source": [
    "for i in ['clean_tok']:\n",
    "    df[i] = df[i].apply(lambda f: f.tolist())"
   ]
  },
  {
   "cell_type": "code",
   "execution_count": null,
   "id": "58ed254c-5539-4a17-85db-f77b6c3fae4c",
   "metadata": {},
   "outputs": [],
   "source": [
    "# Clean timestamp--separate year and month\n",
    "df['date'].head()"
   ]
  },
  {
   "cell_type": "code",
   "execution_count": null,
   "id": "7b5edd68-cfc7-4368-a7b6-ea428428c702",
   "metadata": {},
   "outputs": [],
   "source": [
    "df['year'] = df['date'].apply(lambda x: x[:4])"
   ]
  },
  {
   "cell_type": "code",
   "execution_count": null,
   "id": "06e19365-aab3-4c82-83ef-08bbb7fb500a",
   "metadata": {},
   "outputs": [],
   "source": [
    "df['year'] = pd.to_numeric(df['year'])"
   ]
  },
  {
   "cell_type": "code",
   "execution_count": null,
   "id": "472c026d-e3d5-40b0-9324-cf4841974290",
   "metadata": {},
   "outputs": [],
   "source": [
    "import seaborn as sns\n",
    "sns.histplot(df['year'])"
   ]
  },
  {
   "cell_type": "code",
   "execution_count": null,
   "id": "9f1b5f23-33ac-4f14-8a95-7422d68c9170",
   "metadata": {},
   "outputs": [],
   "source": [
    "df.to_parquet('../processed_data/tokenized_data.parquet')"
   ]
  },
  {
   "cell_type": "markdown",
   "id": "72f5ad42-0806-48aa-9daf-d131f4f3b274",
   "metadata": {},
   "source": [
    "# Top-frequency words"
   ]
  },
  {
   "cell_type": "code",
   "execution_count": null,
   "id": "cc61037b-d261-4ef0-b227-0e9c8c9066cf",
   "metadata": {},
   "outputs": [],
   "source": [
    "# Word counts\n",
    "words = sum(df['clean_tok'], [])\n",
    "from collections import Counter\n",
    "ct = Counter(words)\n",
    "print(ct.most_common(20))"
   ]
  },
  {
   "cell_type": "code",
   "execution_count": null,
   "id": "2ab25d47-48da-4188-90ba-390d40b4dbde",
   "metadata": {},
   "outputs": [],
   "source": [
    "# word count by keywords\n",
    "for keyword in df['keyword'].unique():\n",
    "    df_keyword = df[df['keyword'] == keyword]\n",
    "    words_keyword = sum(df_keyword['clean_tok'], [])\n",
    "    ct_keyword = Counter(words_keyword)\n",
    "    print(f\"Top 30 words for {keyword}:\")\n",
    "    print(ct_keyword.most_common(30))\n",
    "    print(\"\\n\") "
   ]
  },
  {
   "cell_type": "code",
   "execution_count": null,
   "id": "606308b3-2aed-4759-ac11-dca1da92c52b",
   "metadata": {},
   "outputs": [],
   "source": [
    "# word count by year\n",
    "for year in df['year'].unique():\n",
    "    df_year = df[df['year'] == year]\n",
    "    words_year = sum(df_year['clean_tok'], [])\n",
    "    ct_year = Counter(words_year)\n",
    "    print(f\"Top 30 words for {year}:\")\n",
    "    print(ct_year.most_common(20))\n",
    "    print(\"\\n\") "
   ]
  }
 ],
 "metadata": {
  "kernelspec": {
   "display_name": "Python 3 (ipykernel)",
   "language": "python",
   "name": "python3"
  },
  "language_info": {
   "codemirror_mode": {
    "name": "ipython",
    "version": 3
   },
   "file_extension": ".py",
   "mimetype": "text/x-python",
   "name": "python",
   "nbconvert_exporter": "python",
   "pygments_lexer": "ipython3",
   "version": "3.12.1"
  }
 },
 "nbformat": 4,
 "nbformat_minor": 5
}
